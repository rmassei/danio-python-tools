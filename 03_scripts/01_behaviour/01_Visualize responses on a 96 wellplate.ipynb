01_Visualize total movement in each well of the well plate
This script allows to visualize the total movement in each well of plate. Visualization happen trought a heatmap

1) Import packages
import pandas as pd
import numpy as np
import matplotlib.pyplot as plt
2) Read the ViewPoint File
Change to pd.read_csv in case the file is csv

df = pd.read_excel(r"C:\Users\Riccardo\Documents\Python\01_Project\DLLT_Tools\empirical\0_data\manual\ID480_PTX034_LMR_raw.xls")
3) Create your plate
Well_mapping is a dictionary used to map cell coordinates in a grid to unique labels in the form of two characters, where the first character represents a letter (A, B, C, etc.), and the second character represents a two-digit number (01, 02, 03, etc.).

num_rows = 8
num_columns = 12
well_mapping = {(f'{chr(65 + r)}{c + 1:02d}'): (r, c) for r in range(num_rows) for c in range(num_columns)}
plate = np.zeros((8, 12))
4) Iterate through the DataFrame
for _, row in df.iterrows():
    well = row['aname']
    measurement = row['smldist']
    row_idx, col_idx = well_mapping.get(well, (-1, -1))
    if row_idx != -1 and col_idx != -1:
        plate[row_idx, col_idx] += measurement
5) Create a heatmap to visualize the data
# Create a heatmap to visualize the data
plt.imshow(plate, cmap='Reds')  # You can choose another colormap
plt.colorbar()
plt.title('Sum of Movements')

# Add row labels (A to H) and column labels (1 to 12)
plt.xticks(range(12), range(1, 13))
plt.yticks(range(8), [chr(65 + r) for r in range(8)])

# Add well labels
for well, (row, col) in well_mapping.items():
    plt.text(col, row, well, ha='center', va='center', color='w')

plt.show()
