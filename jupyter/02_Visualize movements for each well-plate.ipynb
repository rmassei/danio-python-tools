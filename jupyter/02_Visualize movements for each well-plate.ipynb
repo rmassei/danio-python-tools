{
 "cells": [
  {
   "cell_type": "markdown",
   "id": "3268575e",
   "metadata": {},
   "source": [
    "# 02_Visualize movements for each well-plate"
   ]
  },
  {
   "cell_type": "markdown",
   "id": "8810d6b8",
   "metadata": {},
   "source": [
    "This script allows to show in single plot a line graph for the movement of each well. Files will be then 1) collected and zipped together and 2) visualized in a single excel file"
   ]
  },
  {
   "cell_type": "markdown",
   "id": "50f54771",
   "metadata": {},
   "source": [
    "## 1) Import packages"
   ]
  },
  {
   "cell_type": "code",
   "execution_count": null,
   "id": "2ad05f29",
   "metadata": {},
   "outputs": [],
   "source": [
    "import pandas as pd\n",
    "from PIL import Image\n",
    "from openpyxl import Workbook\n",
    "from openpyxl.drawing.image import Image as ExcelImage\n",
    "import zipfile\n",
    "import os"
   ]
  },
  {
   "cell_type": "markdown",
   "id": "ac025abe",
   "metadata": {},
   "source": [
    "## 2) Read the ViewPoint File"
   ]
  },
  {
   "cell_type": "markdown",
   "id": "9894fde2",
   "metadata": {},
   "source": [
    "Change to pd.read_csv in case the file is csv"
   ]
  },
  {
   "cell_type": "code",
   "execution_count": null,
   "id": "bb9c27a7",
   "metadata": {},
   "outputs": [],
   "source": [
    "data = pd.read_excel(r'C:\\Users\\Riccardo\\Documents\\Python\\01_Project\\DLLT_Tools\\empirical\\0_data\\manual\\ID480_PTX034_LMR_raw.xls')  # Replace 'your_data.csv' with your file path"
   ]
  },
  {
   "cell_type": "markdown",
   "id": "90dd6170",
   "metadata": {},
   "source": [
    "## 3) Pre-processing - Create a new workbook and set column header"
   ]
  },
  {
   "cell_type": "markdown",
   "id": "e2999b0e",
   "metadata": {},
   "source": [
    "1) Create a list to store the individual well charts\n",
    "2) Create a directory to store the images before zipping"
   ]
  },
  {
   "cell_type": "code",
   "execution_count": null,
   "id": "63d5f04f",
   "metadata": {
    "scrolled": false
   },
   "outputs": [],
   "source": [
    "well_charts = []\n",
    "\n",
    "wb = Workbook()\n",
    "ws = wb.active\n",
    "\n",
    "ws['A1'] = 'Well Name'\n",
    "ws['B1'] = 'Image'\n",
    "\n",
    "image_dir = 'images'\n",
    "os.makedirs(image_dir, exist_ok=True)"
   ]
  },
  {
   "cell_type": "markdown",
   "id": "fb5a21e6",
   "metadata": {},
   "source": [
    "## 4) Create the line chart and its on image"
   ]
  },
  {
   "cell_type": "code",
   "execution_count": null,
   "id": "adf0050b",
   "metadata": {},
   "outputs": [],
   "source": [
    "wells = data['aname'].unique()\n",
    "for well in wells:\n",
    "    well_data = data[data['aname'] == well]\n",
    "    time = well_data['end']\n",
    "    dist = well_data['smldist']\n",
    "    \n",
    "    plt.figure()  \n",
    "    plt.plot(time, dist)  \n",
    "    plt.title(f'Well {well}')\n",
    "    plt.xlabel('Time')\n",
    "    plt.ylabel('Distance')\n",
    "    plt.grid(True)  \n",
    "\n",
    "    chart_image_path = os.path.join(image_dir, f'well_{well}.png')\n",
    "    plt.savefig(chart_image_path)\n",
    "    well_charts.append(chart_image_path)\n",
    "    \n",
    "    #This is the excel part\n",
    "    ws[f'A{current_row}'] = well\n",
    "\n",
    "    img = ExcelImage(chart_image_path)\n",
    "    img.width = 200  # Adjust the image width as needed\n",
    "    img.height = 150  # Adjust the image height as needed\n",
    "    ws.add_image(img, f'B{current_row}')\n",
    "\n",
    "    current_row += 1"
   ]
  },
  {
   "cell_type": "markdown",
   "id": "829cf40c",
   "metadata": {},
   "source": [
    "## 4) Save the excel file plus create a zip with the images directories"
   ]
  },
  {
   "cell_type": "code",
   "execution_count": null,
   "id": "7c89a648",
   "metadata": {},
   "outputs": [],
   "source": [
    "# Save the Excel file\n",
    "wb.save('well_charts.xlsx')\n",
    "\n",
    "# Create a zip file containing the 'images' directory\n",
    "zip_file_path = 'well_charts_images.zip'\n",
    "with zipfile.ZipFile(zip_file_path, 'w', zipfile.ZIP_DEFLATED) as zf:\n",
    "    for foldername, subfolders, filenames in os.walk(image_dir):\n",
    "        for filename in filenames:\n",
    "            filepath = os.path.join(foldername, filename)\n",
    "            zf.write(filepath, os.path.relpath(filepath, image_dir))\n",
    "\n",
    "\n",
    "print(f'Images zipped to {zip_file_path}')"
   ]
  }
 ],
 "metadata": {
  "kernelspec": {
   "display_name": "Python 3 (ipykernel)",
   "language": "python",
   "name": "python3"
  },
  "language_info": {
   "codemirror_mode": {
    "name": "ipython",
    "version": 3
   },
   "file_extension": ".py",
   "mimetype": "text/x-python",
   "name": "python",
   "nbconvert_exporter": "python",
   "pygments_lexer": "ipython3",
   "version": "3.11.4"
  }
 },
 "nbformat": 4,
 "nbformat_minor": 5
}
