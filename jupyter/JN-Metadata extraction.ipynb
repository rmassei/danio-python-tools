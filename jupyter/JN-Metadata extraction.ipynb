{
 "cells": [
  {
   "cell_type": "markdown",
   "id": "be8ee461-e97f-4747-881d-5d0156f39722",
   "metadata": {},
   "source": [
    "# Daniopoint-py - Metadata extraction"
   ]
  },
  {
   "cell_type": "markdown",
   "id": "0c566a18-7e3a-4e4e-b7b3-dc37ced273f4",
   "metadata": {},
   "source": [
    "For further information on usage and versioning please check the GitHub repository:\n",
    "https://github.com/rmassei/danio-python-tools"
   ]
  },
  {
   "cell_type": "markdown",
   "id": "4f7cb49c-115e-4c2b-9321-4fd9f0966495",
   "metadata": {},
   "source": [
    "### Import packages"
   ]
  },
  {
   "cell_type": "code",
   "execution_count": null,
   "id": "c73c9c52-ba95-437c-a810-b341d4da9dd2",
   "metadata": {},
   "outputs": [],
   "source": [
    "import pandas as pd\n",
    "import os\n",
    "import sys"
   ]
  },
  {
   "cell_type": "markdown",
   "id": "044024d6-9600-43c9-b0a4-45209254b4be",
   "metadata": {},
   "source": [
    "### User input"
   ]
  },
  {
   "cell_type": "markdown",
   "id": "f80040d0-d067-4382-a5e8-eae11502ac0c",
   "metadata": {},
   "source": [
    "Input variables. Supported file types are .xlsx and .csv.\n",
    "\n",
    "Input can be copy/pasted and \"\\\" are supported."
   ]
  },
  {
   "cell_type": "code",
   "execution_count": null,
   "id": "9285c70c-e939-4348-888b-80a9142924e4",
   "metadata": {},
   "outputs": [],
   "source": [
    "file = input(r\"Input file location:\")"
   ]
  },
  {
   "cell_type": "markdown",
   "id": "39985014-04b9-4b7c-a5c6-bab6e1280bf0",
   "metadata": {},
   "source": [
    "### Read the ViewPoint file"
   ]
  },
  {
   "cell_type": "code",
   "execution_count": null,
   "id": "97f82cf5-ca12-49fc-8a8e-0155623ea7d9",
   "metadata": {},
   "outputs": [],
   "source": [
    "file_name = os.path.basename(file)\n",
    "name, extension = os.path.splitext(file_name)\n",
    "if format(extension) == \".xlsx\":\n",
    "    df_raw = pd.read_excel(file)\n",
    "else:\n",
    "    df_raw = pd.read_table(file, encoding=\"utf-16\", low_memory=False)"
   ]
  },
  {
   "cell_type": "markdown",
   "id": "574a750e-f6c9-4f9f-bb79-e051f917e471",
   "metadata": {},
   "source": [
    "### Extract metadata from the ViewPoint file"
   ]
  },
  {
   "cell_type": "markdown",
   "id": "985e5eee-1ed6-4895-88b1-a86d225ae9a4",
   "metadata": {},
   "source": [
    "This code chunk extract the information from the ViewPoint file. Potentially, some variable name need to be changed to fir the ViewPoint file column headers.\n",
    "\n",
    "In this specific example, light and dark phase are specificied in \"stimuli_name\", but it can also change according to the software version."
   ]
  },
  {
   "cell_type": "code",
   "execution_count": null,
   "id": "157a5e30-d313-44e7-8fd7-49b30f1efee4",
   "metadata": {},
   "outputs": [],
   "source": [
    "unique_counts = df_raw['location'].nunique()\n",
    "bin = df_raw.iloc[1]['end']\n",
    "type = df_raw.iloc[1]['datatype']\n",
    "date = df_raw.iloc[1]['stdate']\n",
    "if \"user\" in df_raw.columns:\n",
    "    user = df_raw.iloc[1]['user']\n",
    "if \"operator\" in df_raw.columns:\n",
    "    user = df_raw.iloc[1][\"operator\"]\n",
    "time = df_raw.iloc[1]['sttime']\n",
    "meas_time = df_raw['end'].iloc[-1]\n",
    "if 'stimuli_name' in df_raw.columns:\n",
    "    filtered_df = df_raw[df_raw['stimuli_name'].notna()]\n",
    "    filtered_df = filtered_df[~filtered_df['stimuli_name'].duplicated(keep='first')]\n",
    "    phases = filtered_df['stimuli_name'].nunique()\n",
    "    selected_columns = [\"end\", \"stimuli_name\"]\n",
    "    filtered_df[\"end\"] = filtered_df[\"end\"].round()\n",
    "    result_df = filtered_df[selected_columns]\n",
    "    result_df['Time_Minutes'] = result_df['end'] / 60\n",
    "    result_df.rename(columns={'end': 'Time_Seconds', 'stimuli_name': 'Phase_Name'}, inplace=True)"
   ]
  },
  {
   "cell_type": "markdown",
   "id": "eb94b5e5-82be-4044-abba-cdbe91e9f4f4",
   "metadata": {},
   "source": [
    "### Print output"
   ]
  },
  {
   "cell_type": "code",
   "execution_count": null,
   "id": "4990f212-b8cf-41d4-b5af-08c6e7e6e96d",
   "metadata": {},
   "outputs": [],
   "source": [
    "print(\"File Name: {}\".format(name))\n",
    "print(\"Extension: {}\".format(extension))\n",
    "print(f\"The user {user} run the test on the {date}. The test started at {time}.\\n\"\n",
    "      f\"The test was run in a {unique_counts} well plate.\\n\"\n",
    "      f'Binning was set at {bin} seconds while datatype was set as \"{type}\". \\n'\n",
    "      f\"Total measurement time was {round(meas_time)} seconds ({round(meas_time) / 60} minutes).\")\n",
    "if 'stimuli_name' in df_raw.columns:\n",
    "        print(f\"The script detected {phases} potential light phases\")\n",
    "        print(result_df)\n",
    "else:\n",
    "    print(\"No information on data stimuli was retrieved\")"
   ]
  },
  {
   "cell_type": "code",
   "execution_count": null,
   "id": "e24373cb-ef81-4b96-aed9-962f01237dd0",
   "metadata": {},
   "outputs": [],
   "source": []
  }
 ],
 "metadata": {
  "kernelspec": {
   "display_name": "Python 3 (ipykernel)",
   "language": "python",
   "name": "python3"
  },
  "language_info": {
   "codemirror_mode": {
    "name": "ipython",
    "version": 3
   },
   "file_extension": ".py",
   "mimetype": "text/x-python",
   "name": "python",
   "nbconvert_exporter": "python",
   "pygments_lexer": "ipython3",
   "version": "3.11.5"
  }
 },
 "nbformat": 4,
 "nbformat_minor": 5
}
