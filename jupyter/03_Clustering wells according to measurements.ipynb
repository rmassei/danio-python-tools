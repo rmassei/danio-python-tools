{
 "cells": [
  {
   "cell_type": "markdown",
   "id": "ba43516d",
   "metadata": {},
   "source": [
    "# 03_Clustering wells to specific patterns"
   ]
  },
  {
   "cell_type": "markdown",
   "id": "5e4ac28e",
   "metadata": {},
   "source": [
    "This script allows to show cluster together wells with similar movements patterns"
   ]
  },
  {
   "cell_type": "markdown",
   "id": "2f730889",
   "metadata": {},
   "source": [
    "## 1) Import packages"
   ]
  },
  {
   "cell_type": "code",
   "execution_count": null,
   "id": "e9d8b915",
   "metadata": {
    "scrolled": true
   },
   "outputs": [],
   "source": [
    "import pandas as pd\n",
    "import numpy as np\n",
    "from sklearn.preprocessing import StandardScaler\n",
    "from sklearn.cluster import KMeans\n",
    "import matplotlib.pyplot as plt\n",
    "from adjustText import adjust_text"
   ]
  },
  {
   "cell_type": "markdown",
   "id": "3eeb2b20",
   "metadata": {},
   "source": [
    "## 2) Read the ViewPoint File"
   ]
  },
  {
   "cell_type": "markdown",
   "id": "799a7473",
   "metadata": {},
   "source": [
    "Change to pd.read_csv in case the file is csv"
   ]
  },
  {
   "cell_type": "code",
   "execution_count": null,
   "id": "8be228df",
   "metadata": {},
   "outputs": [],
   "source": [
    "data = pd.read_excel(r\"LOCATIONANDNAMEOFTHEFILE\")             \")"
   ]
  },
  {
   "cell_type": "markdown",
   "id": "17d6ae39",
   "metadata": {},
   "source": [
    "## 3) Subset  and aggregate the data with the measurements to cluster"
   ]
  },
  {
   "cell_type": "markdown",
   "id": "01987d36",
   "metadata": {},
   "source": [
    "You can choose the grouping approach, now it is setted on mean"
   ]
  },
  {
   "cell_type": "code",
   "execution_count": null,
   "id": "6c7aaa2d",
   "metadata": {},
   "outputs": [],
   "source": [
    "sub_data = data[[\"aname\", \"inadist\",\"smldist\", \"lardur\", \"lardist\"]]\n",
    "aggregated_data = sub_data.groupby('aname').mean() \n",
    "aggregated_data.head()"
   ]
  },
  {
   "cell_type": "markdown",
   "id": "dc24a587",
   "metadata": {},
   "source": [
    "## 4) Standardize the data"
   ]
  },
  {
   "cell_type": "code",
   "execution_count": null,
   "id": "9d411278",
   "metadata": {},
   "outputs": [],
   "source": [
    "X = aggregated_data.values  \n",
    "scaler = StandardScaler()\n",
    "X_standardized = scaler.fit_transform(X)"
   ]
  },
  {
   "cell_type": "markdown",
   "id": "1698ee38",
   "metadata": {},
   "source": [
    "## 4) Perform k-means clustering"
   ]
  },
  {
   "cell_type": "markdown",
   "id": "164a2e62",
   "metadata": {},
   "source": [
    "You can choose the number of clusters"
   ]
  },
  {
   "cell_type": "code",
   "execution_count": null,
   "id": "089a3445",
   "metadata": {},
   "outputs": [],
   "source": [
    "n_clusters = 3  \n",
    "kmeans = KMeans(n_clusters=n_clusters)\n",
    "labels = kmeans.fit_predict(X_standardized)"
   ]
  },
  {
   "cell_type": "markdown",
   "id": "26c07b1f",
   "metadata": {},
   "source": [
    "## 5) Plot the results"
   ]
  },
  {
   "cell_type": "code",
   "execution_count": null,
   "id": "43044ff8",
   "metadata": {},
   "outputs": [],
   "source": [
    "plt.figure(figsize=(10, 6))\n",
    "plt.scatter(X_standardized[:, 0], X_standardized[:, 1], c=labels, cmap='rainbow')\n",
    "\n",
    "# Annotate the data points with well names using the adjustText library\n",
    "texts = []\n",
    "for i, well_name in enumerate(aggregated_data.index):\n",
    "    x_pos, y_pos = X_standardized[i, 0], X_standardized[i, 1]\n",
    "    text = plt.text(x_pos, y_pos, well_name, ha='center', va='bottom')\n",
    "    texts.append(text)\n",
    "\n",
    "# Automatically adjust label positions to avoid overlapping\n",
    "adjust_text(texts, arrowprops=dict(arrowstyle='->', color='black'), force_text=0.2)\n",
    "\n",
    "plt.xlabel('Feature 1')\n",
    "plt.ylabel('Feature 2')\n",
    "plt.title('Cluster Visualization with Well Names (Avoiding Overlapping)')\n",
    "plt.show()"
   ]
  }
 ],
 "metadata": {
  "kernelspec": {
   "display_name": "Python 3 (ipykernel)",
   "language": "python",
   "name": "python3"
  },
  "language_info": {
   "codemirror_mode": {
    "name": "ipython",
    "version": 3
   },
   "file_extension": ".py",
   "mimetype": "text/x-python",
   "name": "python",
   "nbconvert_exporter": "python",
   "pygments_lexer": "ipython3",
   "version": "3.11.5"
  }
 },
 "nbformat": 4,
 "nbformat_minor": 5
}
