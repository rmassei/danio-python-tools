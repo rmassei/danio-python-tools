{
 "cells": [
  {
   "cell_type": "markdown",
   "id": "668e5e3b",
   "metadata": {},
   "source": [
    "# 4_Density plots for data spread analysis"
   ]
  },
  {
   "cell_type": "markdown",
   "id": "c3b4ba0f",
   "metadata": {},
   "source": [
    "This script allows to visualize the measurement distribution."
   ]
  },
  {
   "cell_type": "markdown",
   "id": "87bf67c8",
   "metadata": {},
   "source": [
    "## 1) Import packages"
   ]
  },
  {
   "cell_type": "code",
   "execution_count": null,
   "id": "4445fe85",
   "metadata": {},
   "outputs": [],
   "source": [
    "import json\n",
    "import os\n",
    "import pandas as pd\n",
    "import matplotlib.pyplot as plt\n",
    "from scipy.stats import shapiro"
   ]
  },
  {
   "cell_type": "markdown",
   "id": "0247e8ff",
   "metadata": {},
   "source": [
    "### 1a) Define the functions"
   ]
  },
  {
   "cell_type": "code",
   "execution_count": null,
   "id": "021448af",
   "metadata": {},
   "outputs": [],
   "source": [
    "def process_excel_file(file_path, experiment_data):\n",
    "    measurement_data = pd.read_excel(file_path)\n",
    "    negative_control_wells = list(experiment_data[\"negative_controls\"].keys())\n",
    "    negative_control_data = measurement_data[measurement_data[\"Well\"].isin(negative_control_wells)]\n",
    "\n",
    "    statistic, p_value = shapiro(negative_control_data[\"Measurement\"])\n",
    "\n",
    "    if p_value > 0.05:\n",
    "        return \"Normal\"\n",
    "    else:\n",
    "        return \"Non-Normal\""
   ]
  },
  {
   "cell_type": "markdown",
   "id": "2341755d",
   "metadata": {},
   "source": [
    "## 2) Create JSON file with information on different treatments and negative controls"
   ]
  },
  {
   "cell_type": "markdown",
   "id": "69e7eecb",
   "metadata": {},
   "source": [
    "You can create a JSON file in Python to store information about the different treatments and negative controls in a 96-well plate experiment. "
   ]
  },
  {
   "cell_type": "code",
   "execution_count": null,
   "id": "f0a12f6f",
   "metadata": {},
   "outputs": [],
   "source": [
    "data = {\n",
    "    \"treatments\": {\n",
    "        \"well_1\": \"Treatment A\",\n",
    "        \"well_2\": \"Treatment B\",\n",
    "        \"well_3\": \"Treatment C\",\n",
    "    },\n",
    "    \"negative_controls\": {\n",
    "        \"well_10\": \"Control 1\",\n",
    "        \"well_20\": \"Control 2\",\n",
    "        \"well_30\": \"Control 3\",\n",
    "    }\n",
    "}\n",
    "\n",
    "with open(\"experiment_data.json\", \"w\") as json_file:\n",
    "    json.dump(data, json_file, indent=4)\n",
    "\n",
    "print(\"JSON file created successfully.\")"
   ]
  },
  {
   "cell_type": "markdown",
   "id": "b831e0df",
   "metadata": {},
   "source": [
    "## 3) Start to analyze the distribution"
   ]
  },
  {
   "cell_type": "code",
   "execution_count": null,
   "id": "3f1e398a",
   "metadata": {},
   "outputs": [],
   "source": [
    "distribution_types = []\n",
    "\n",
    "directory_path = \"path_to_directory_containing_excel_files\"\n",
    "\n",
    "for filename in os.listdir(directory_path):\n",
    "    if filename.endswith(\".xlsx\"):\n",
    "        file_path = os.path.join(directory_path, filename)\n",
    "\n",
    "        with open(\"experiment_data.json\", \"r\") as json_file:\n",
    "            experiment_data = json.load(json_file)\n",
    "\n",
    "        distribution_type = process_excel_file(file_path, experiment_data)\n",
    "        distribution_types.append(distribution_type)\n",
    "\n",
    "distribution_counts = {distribution: distribution_types.count(distribution) for distribution in set(distribution_types)}\n",
    "\n",
    "plt.bar(distribution_counts.keys(), distribution_counts.values())\n",
    "plt.xlabel(\"Distribution Type\")\n",
    "plt.ylabel(\"Count\")\n",
    "plt.title(\"Overall Distribution of Negative Controls\")\n",
    "plt.show()"
   ]
  }
 ],
 "metadata": {
  "kernelspec": {
   "display_name": "Python 3 (ipykernel)",
   "language": "python",
   "name": "python3"
  },
  "language_info": {
   "codemirror_mode": {
    "name": "ipython",
    "version": 3
   },
   "file_extension": ".py",
   "mimetype": "text/x-python",
   "name": "python",
   "nbconvert_exporter": "python",
   "pygments_lexer": "ipython3",
   "version": "3.11.5"
  }
 },
 "nbformat": 4,
 "nbformat_minor": 5
}
