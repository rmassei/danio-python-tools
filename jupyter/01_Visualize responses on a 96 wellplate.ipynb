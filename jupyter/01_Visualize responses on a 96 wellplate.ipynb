{
 "cells": [
  {
   "cell_type": "markdown",
   "id": "7f8b4609",
   "metadata": {},
   "source": [
    "# 01_Visualize total movement in each well of the well plate"
   ]
  },
  {
   "cell_type": "markdown",
   "id": "2bc9a966",
   "metadata": {},
   "source": [
    "This script allows to visualize the total movement in each well of plate. Visualization happen trought a heatmap"
   ]
  },
  {
   "cell_type": "markdown",
   "id": "d12f1183",
   "metadata": {},
   "source": [
    "## 1) Import packages"
   ]
  },
  {
   "cell_type": "code",
   "execution_count": null,
   "id": "3d7aed35",
   "metadata": {},
   "outputs": [],
   "source": [
    "import pandas as pd\n",
    "import numpy as np\n",
    "import matplotlib.pyplot as plt"
   ]
  },
  {
   "cell_type": "markdown",
   "id": "02e4a9c4",
   "metadata": {},
   "source": [
    "## 2) Read the ViewPoint File"
   ]
  },
  {
   "cell_type": "markdown",
   "id": "7e639946",
   "metadata": {},
   "source": [
    "Change to *pd.read_csv* in case the file is csv"
   ]
  },
  {
   "cell_type": "code",
   "execution_count": null,
   "id": "f6db9596",
   "metadata": {},
   "outputs": [],
   "source": [
    "df = pd.read_excel(r\"LOCATIONANDNAMEOFTHEFILE\")"
   ]
  },
  {
   "cell_type": "markdown",
   "id": "3465a93a",
   "metadata": {},
   "source": [
    "## 3) Create your plate"
   ]
  },
  {
   "cell_type": "markdown",
   "id": "f125c054",
   "metadata": {},
   "source": [
    "Well_mapping is a dictionary  used to map cell coordinates in a grid to unique labels in the form of two characters, where the first character represents a letter (A, B, C, etc.), and the second character represents a two-digit number (01, 02, 03, etc.)."
   ]
  },
  {
   "cell_type": "code",
   "execution_count": null,
   "id": "47042ad9",
   "metadata": {},
   "outputs": [],
   "source": [
    "num_rows = 8\n",
    "num_columns = 12\n",
    "well_mapping = {(f'{chr(65 + r)}{c + 1:02d}'): (r, c) for r in range(num_rows) for c in range(num_columns)}\n",
    "plate = np.zeros((8, 12))"
   ]
  },
  {
   "cell_type": "markdown",
   "id": "a0bb76f1-c8e1-47d2-852b-bcd481fa6c3c",
   "metadata": {},
   "source": [
    "## 3a) Create an additional column name with wells name"
   ]
  },
  {
   "cell_type": "markdown",
   "id": "f5f9517e-c019-4eaf-a493-9c7216c1432e",
   "metadata": {},
   "source": [
    "The script is running just if a column contain the wells names in the format \"A01\" up to \"H12\". In case the column \"location\" is in a format \"c01\" up to \"c96\" use the following script to create an additional column in the dataframe containg the well names"
   ]
  },
  {
   "cell_type": "code",
   "execution_count": null,
   "id": "15407f2a-0416-43e0-a3f6-05daa809d71f",
   "metadata": {},
   "outputs": [],
   "source": [
    "location_mapping = {f'c{i:02d}': f'{chr(65 + (i - 1) // 12)}{((i - 1) % 12) + 1:02d}' for i in range(1, 97)}\n",
    "df['well_plate_position'] = df[time].map(location_mapping)"
   ]
  },
  {
   "cell_type": "markdown",
   "id": "d2811641",
   "metadata": {},
   "source": [
    "## 4) Iterate through the DataFrame"
   ]
  },
  {
   "cell_type": "code",
   "execution_count": null,
   "id": "895c8a46",
   "metadata": {},
   "outputs": [],
   "source": [
    "for _, row in df.iterrows():\n",
    "    well = row['aname']\n",
    "    measurement = row['smldist']\n",
    "    row_idx, col_idx = well_mapping.get(well, (-1, -1))\n",
    "    if row_idx != -1 and col_idx != -1:\n",
    "        plate[row_idx, col_idx] += measurement"
   ]
  },
  {
   "cell_type": "markdown",
   "id": "c59befb4",
   "metadata": {},
   "source": [
    "## 5) Create a heatmap to visualize the data"
   ]
  },
  {
   "cell_type": "code",
   "execution_count": null,
   "id": "313e77b5",
   "metadata": {},
   "outputs": [],
   "source": [
    "# Create a heatmap to visualize the data\n",
    "plt.imshow(plate, cmap='Reds')  # You can choose another colormap\n",
    "plt.colorbar()\n",
    "plt.title('Sum of Movements')\n",
    "\n",
    "# Add row labels (A to H) and column labels (1 to 12)\n",
    "plt.xticks(range(12), range(1, 13))\n",
    "plt.yticks(range(8), [chr(65 + r) for r in range(8)])\n",
    "\n",
    "# Add well labels\n",
    "for well, (row, col) in well_mapping.items():\n",
    "    plt.text(col, row, well, ha='center', va='center', color='w')\n",
    "\n",
    "plt.show()"
   ]
  }
 ],
 "metadata": {
  "kernelspec": {
   "display_name": "Python 3 (ipykernel)",
   "language": "python",
   "name": "python3"
  },
  "language_info": {
   "codemirror_mode": {
    "name": "ipython",
    "version": 3
   },
   "file_extension": ".py",
   "mimetype": "text/x-python",
   "name": "python",
   "nbconvert_exporter": "python",
   "pygments_lexer": "ipython3",
   "version": "3.11.5"
  }
 },
 "nbformat": 4,
 "nbformat_minor": 5
}
