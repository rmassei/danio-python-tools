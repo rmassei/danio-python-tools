{
 "cells": [
  {
   "cell_type": "markdown",
   "id": "ce526df1-8008-411a-9618-796104808131",
   "metadata": {},
   "source": [
    "# Daniopoint-py - Visualization functions"
   ]
  },
  {
   "cell_type": "markdown",
   "id": "772d74c3-b457-48b6-954e-f060b5a0a713",
   "metadata": {},
   "source": [
    "For further information on usage and versioning please check the GitHub repository:\n",
    "https://github.com/rmassei/danio-python-tools"
   ]
  },
  {
   "cell_type": "markdown",
   "id": "d1d2e4d2-a84c-4d4b-83b2-294d5578a06a",
   "metadata": {},
   "source": [
    "### Import packages"
   ]
  },
  {
   "cell_type": "code",
   "execution_count": null,
   "id": "f351afb4-40d7-43e3-8678-ddc27436a8b3",
   "metadata": {},
   "outputs": [],
   "source": [
    "import os\n",
    "import zipfile\n",
    "\n",
    "import matplotlib.pyplot as plt\n",
    "import numpy as np\n",
    "import pandas as pd\n",
    "import io\n",
    "import seaborn as sns\n",
    "\n",
    "from statsmodels.stats.multicomp import pairwise_tukeyhsd\n",
    "from openpyxl import Workbook\n",
    "from openpyxl.drawing.image import Image as ExcelImage"
   ]
  },
  {
   "cell_type": "markdown",
   "id": "1b1c8c37-a82e-4255-9c66-2fab14cdb2ee",
   "metadata": {},
   "source": [
    "### User input (1)"
   ]
  },
  {
   "cell_type": "markdown",
   "id": "2374927d-6c05-42c8-975e-708b6c07533e",
   "metadata": {},
   "source": [
    "Input variables. Supported file types are .xlsx and .csv.\n",
    "\n",
    "Input can be copy/pasted and \"\\\" are supported.\n",
    "\n",
    "Please, check that location are reported in the format c01, c02, c03 etc"
   ]
  },
  {
   "cell_type": "code",
   "execution_count": null,
   "id": "cd2004f3-7cdd-452d-8f8a-94f0c5c0518b",
   "metadata": {},
   "outputs": [],
   "source": [
    "file = input(r\"Input file location:\")"
   ]
  },
  {
   "cell_type": "code",
   "execution_count": null,
   "id": "23e91e3b-1b4c-4d84-8b0e-f039c6d31eba",
   "metadata": {},
   "outputs": [],
   "source": [
    "plate_type = input(\"Input plate layout:\")\n",
    "plate_type=int(plate_type)"
   ]
  },
  {
   "cell_type": "code",
   "execution_count": null,
   "id": "27d38317-1707-4d7c-ad67-833fb50ecefb",
   "metadata": {},
   "outputs": [],
   "source": [
    "location = input(\"Input column header with animal location (c01,c02...):\")"
   ]
  },
  {
   "cell_type": "code",
   "execution_count": null,
   "id": "8a452162-cb13-4246-be83-2478751c562f",
   "metadata": {},
   "outputs": [],
   "source": [
    "endpoint = input(\"Input endpoint to analyze (i.e. smldist, lardist):\")"
   ]
  },
  {
   "cell_type": "markdown",
   "id": "b3c7c7e1-5b73-4702-95a9-f90effa4b3ac",
   "metadata": {},
   "source": [
    "### Read the ViewPoint file"
   ]
  },
  {
   "cell_type": "code",
   "execution_count": null,
   "id": "e79c74be-627e-4b7f-a3ee-3bd04926ed31",
   "metadata": {},
   "outputs": [],
   "source": [
    "file_name = os.path.basename(file)\n",
    "name, extension = os.path.splitext(file_name)\n",
    "if format(extension) == \".xlsx\":\n",
    "    df_raw = pd.read_excel(file)\n",
    "else:\n",
    "    df_raw = pd.read_table(file, encoding=\"utf-16\", low_memory=False)"
   ]
  },
  {
   "cell_type": "markdown",
   "id": "8b935602-18c4-4cfe-b912-4188fb56f8ab",
   "metadata": {},
   "source": [
    "### Create the plate layout"
   ]
  },
  {
   "cell_type": "markdown",
   "id": "7d391b90-89a5-432e-a65d-8020fa0cdcb4",
   "metadata": {},
   "source": [
    "Create a plate layout using mapping"
   ]
  },
  {
   "cell_type": "code",
   "execution_count": null,
   "id": "8aa650f6-1222-4e51-aade-1be0eed61a20",
   "metadata": {},
   "outputs": [],
   "source": [
    "if plate_type not in [24, 48, 96]:\n",
    "    raise ValueError(\"Unsupported plate type. Supported types are 24, 48, and 96.\")\n",
    "num_rows = 8\n",
    "num_columns = 12 if plate_type == 96 else 6\n",
    "if plate_type == 24:\n",
    "    location_mapping = {f'c{i:02d}': f'{chr(65 + (i - 1) // 6)}{((i - 1) % 6) + 1:02d}'\n",
    "                        for i in range(1, 25)}\n",
    "elif plate_type == 48:\n",
    "    location_mapping = {f'c{i:02d}': f'{chr(65 + (i - 1) // 6)}{((i - 1) % 6) + 1:02d}'\n",
    "                        for i in range(1, 49)}\n",
    "else:\n",
    "    location_mapping = {f'c{i:02d}': f'{chr(65 + (i - 1) // 12)}{((i - 1) % 12) + 1:02d}'\n",
    "                        for i in range(1, 97)}\n",
    "df_raw['well_plate_position'] = df_raw[location].map(location_mapping)\n",
    "well_mapping = {f'{chr(65 + r)}{c + 1:02d}': (r, c) for r in range(num_rows)\n",
    "                for c in range(num_columns)}\n",
    "plate = np.zeros((num_rows, num_columns))"
   ]
  },
  {
   "cell_type": "markdown",
   "id": "009f4754-5d0e-4799-96cc-8e17ca7bcb94",
   "metadata": {},
   "source": [
    "## 1) Heatmap and well plate plot"
   ]
  },
  {
   "cell_type": "markdown",
   "id": "7e6f2c9a-2fed-4122-9713-dc8160ecf914",
   "metadata": {},
   "source": [
    "### Assign the endpoint value to each well"
   ]
  },
  {
   "cell_type": "code",
   "execution_count": null,
   "id": "2087f545-a07f-4d8f-9df2-b52683e70bad",
   "metadata": {},
   "outputs": [],
   "source": [
    "for _, row in df_raw.iterrows():\n",
    "    well = row['well_plate_position']\n",
    "    measurement = row[endpoint]\n",
    "    row_idx, col_idx = well_mapping.get(well, (-1, -1))\n",
    "    if row_idx != -1 and col_idx != -1:\n",
    "        plate[row_idx, col_idx] += measurement"
   ]
  },
  {
   "cell_type": "markdown",
   "id": "21b8a442-c772-4fc0-bbc0-25e2046e615d",
   "metadata": {},
   "source": [
    "### Plot the heatmap/plate"
   ]
  },
  {
   "cell_type": "code",
   "execution_count": null,
   "id": "a1a47645-e61b-4a5b-9b43-8010e9a0dbcb",
   "metadata": {},
   "outputs": [],
   "source": [
    "plt.imshow(plate, cmap='Reds')\n",
    "plt.colorbar()\n",
    "plt.title(f'Results - Sum of {endpoint}')\n",
    "plt.xticks(range(num_columns), range(1, num_columns + 1))\n",
    "plt.yticks(range(num_rows), [chr(65 + r) for r in range(num_rows)])\n",
    "for well, (row, col) in well_mapping.items():\n",
    "    plt.text(col, row, well, ha='center', va='center', color='w')\n",
    "plt.show()"
   ]
  },
  {
   "cell_type": "markdown",
   "id": "b659f5e3-d975-4306-83fd-831be77d1db5",
   "metadata": {},
   "source": [
    "## 2) Boxplot - Lineplot - Density plot"
   ]
  },
  {
   "cell_type": "markdown",
   "id": "97722126-a000-46b7-ae21-d43a67545239",
   "metadata": {},
   "source": [
    "### User input (2)"
   ]
  },
  {
   "cell_type": "markdown",
   "id": "7de28bac-011c-4634-b9b1-c8f7fbbefdaf",
   "metadata": {},
   "source": [
    "Input variables treatment file AND time range. Supported file is .xlsx\n",
    "\n",
    "Please, check that location are reported in the format c01, c02, c03 etc"
   ]
  },
  {
   "cell_type": "code",
   "execution_count": null,
   "id": "dcd6222d-661e-4a9c-875b-1971c7326049",
   "metadata": {},
   "outputs": [],
   "source": [
    "user_input=input('Input treatment file location, otherwhise just press enter:')\n",
    "if user_input.strip():\n",
    "    treatments_file = user_input\n",
    "else:\n",
    "    treatments_file = None\n",
    "type(treatments_file)"
   ]
  },
  {
   "cell_type": "code",
   "execution_count": null,
   "id": "ce56206d-8cba-4672-a500-3b780d2c7468",
   "metadata": {},
   "outputs": [],
   "source": [
    "start=int(input('Input start time of analysis (lower range):'))\n",
    "end=int(input('Input end time (upper range):'))\n",
    "start_range = (start, end)"
   ]
  },
  {
   "cell_type": "code",
   "execution_count": null,
   "id": "e435577f-442f-4c25-902e-9f4ad682bdf6",
   "metadata": {},
   "outputs": [],
   "source": [
    "if treatments_file is not None:\n",
    "    treatments_df = pd.read_excel(treatments_file)\n",
    "    animal_treatments = dict(zip(treatments_df['well_code'], treatments_df['treatment']))\n",
    "    df_raw['treatment'] = df_raw[location].map(animal_treatments)\n",
    "else:\n",
    "    df_raw['treatment'] = 'Unknown'\n",
    "if start_range is not None:\n",
    "    df_raw = df_raw[(df_raw['start'] >= start_range[0]) & (df_raw['start'] <= start_range[1])]"
   ]
  },
  {
   "cell_type": "code",
   "execution_count": null,
   "id": "1cde0783-0efc-4851-b4c9-917171393242",
   "metadata": {},
   "outputs": [],
   "source": [
    "plt.figure(figsize=(10, 6))\n",
    "sns.boxplot(x='treatment', y=endpoint, data=df_raw, palette='Set3',\n",
    "            showfliers=False) \n",
    "plt.title(f'Boxplot of {endpoint} by Treatment within Start Range')\n",
    "plt.show()"
   ]
  },
  {
   "cell_type": "code",
   "execution_count": null,
   "id": "1c7e7a77-4c44-4257-be79-c64bbb704e4c",
   "metadata": {},
   "outputs": [],
   "source": [
    "plt.figure(figsize=(10, 6))\n",
    "sns.lineplot(x='start', y=endpoint, hue='treatment', data=df_raw)\n",
    "plt.title(f'Time Series Line Plot of {endpoint} by Treatment within Start Range')\n",
    "plt.show()\n"
   ]
  },
  {
   "cell_type": "code",
   "execution_count": null,
   "id": "a2e126d2-07d8-44d4-a0f2-3325a158bdc5",
   "metadata": {},
   "outputs": [],
   "source": [
    "plt.figure(figsize=(10, 6))\n",
    "sns.histplot(data=df_raw, x=endpoint, hue='treatment', multiple=\"stack\", kde=True)\n",
    "plt.title(f'Distribution of {endpoint} by Treatment within Start Range')\n",
    "plt.show()"
   ]
  },
  {
   "cell_type": "code",
   "execution_count": null,
   "id": "94a3e44f-70fa-484f-87e7-f488d7e337cc",
   "metadata": {},
   "outputs": [],
   "source": [
    "plt.figure(figsize=(10, 6))\n",
    "sns.boxplot(x='treatment', y=endpoint, data=df_raw, palette='Set3', showfliers=False)\n",
    "for i, treatment in enumerate(df['treatment'].unique()):\n",
    "    p_value = tukey_results.pvalues[i]\n",
    "    stars = \"\"\n",
    "    if p_value < 0.05:\n",
    "        if p_value < 0.001:\n",
    "            stars = \"***\"\n",
    "        elif p_value < 0.01:\n",
    "            stars = \"**\"\n",
    "        else:\n",
    "            stars = \"*\"\n",
    "    plt.text(i, max(df[endpoint]), stars, ha='center', va='bottom', color='red', fontsize=12)\n",
    "plt.title(f'Boxplot of {endpoint} by Treatment within Start Range')\n",
    "plt.show()"
   ]
  }
 ],
 "metadata": {
  "kernelspec": {
   "display_name": "Python 3 (ipykernel)",
   "language": "python",
   "name": "python3"
  },
  "language_info": {
   "codemirror_mode": {
    "name": "ipython",
    "version": 3
   },
   "file_extension": ".py",
   "mimetype": "text/x-python",
   "name": "python",
   "nbconvert_exporter": "python",
   "pygments_lexer": "ipython3",
   "version": "3.11.5"
  }
 },
 "nbformat": 4,
 "nbformat_minor": 5
}
